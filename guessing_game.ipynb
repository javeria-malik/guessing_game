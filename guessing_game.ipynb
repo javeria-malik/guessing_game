{
 "cells": [
  {
   "cell_type": "code",
   "execution_count": null,
   "id": "33242e8d",
   "metadata": {},
   "outputs": [
    {
     "name": "stdout",
     "output_type": "stream",
     "text": [
      "Welcome to the Number Guessing Game!\n",
      "You have 5 attempts to guess the number.\n"
     ]
    }
   ],
   "source": [
    "import random\n",
    "def guess_number():\n",
    "    secret_number = random.randint(1, 100)\n",
    "    attempts = 0\n",
    "    max_attempts = 5\n",
    "\n",
    "    print(\"Welcome to the Number Guessing Game!\")\n",
    "    print(\"You have\", max_attempts, \"attempts to guess the number.\")\n",
    "\n",
    "    while attempts < max_attempts:\n",
    "        attempts += 1\n",
    "        guess = int(input(\"Guess a number between 1 and 100: \"))\n",
    "\n",
    "        if guess < secret_number:\n",
    "            print(\"Too low!\")\n",
    "        elif guess > secret_number:\n",
    "            print(\"Too high!\")\n",
    "        else:\n",
    "            print(\"Congratulations! You guessed the number in\", attempts, \"attempts.\")\n",
    "            return\n",
    "\n",
    "    print(\"Game over! You ran out of attempts.\")\n",
    "    print(\"The secret number was\", secret_number)\n",
    "\n",
    "guess_number()\n"
   ]
  },
  {
   "cell_type": "code",
   "execution_count": null,
   "id": "acb93a4b",
   "metadata": {},
   "outputs": [],
   "source": []
  }
 ],
 "metadata": {
  "kernelspec": {
   "display_name": "Python 3",
   "language": "python",
   "name": "python3"
  },
  "language_info": {
   "codemirror_mode": {
    "name": "ipython",
    "version": 3
   },
   "file_extension": ".py",
   "mimetype": "text/x-python",
   "name": "python",
   "nbconvert_exporter": "python",
   "pygments_lexer": "ipython3",
   "version": "3.8.8"
  }
 },
 "nbformat": 4,
 "nbformat_minor": 5
}
